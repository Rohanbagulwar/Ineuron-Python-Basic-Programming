{
 "cells": [
  {
   "cell_type": "markdown",
   "metadata": {},
   "source": [
    "# Python basics programming Assignment-1"
   ]
  },
  {
   "cell_type": "code",
   "execution_count": 3,
   "metadata": {},
   "outputs": [
    {
     "name": "stdout",
     "output_type": "stream",
     "text": [
      "hello python\n",
      "enter input any nr a20\n",
      "enter input any nr b30\n",
      "addition 50 \n",
      " divison 0.6666666666666666\n",
      "enter value for base of triangle20\n",
      "enter value for height of triangle10\n",
      "Area of triangle is 100.0\n",
      "Before swapping a= 20  b= 30\n",
      "After swapping a= 30  b= 20\n",
      "randomly genrated number is 91\n"
     ]
    }
   ],
   "source": [
    "import random\n",
    "#Q1 Write a Python program to print \"Hello Python\"?\n",
    "print(\"hello python\") \n",
    "\n",
    "#Q2 Write a Python program to do arithmetical operations addition and division.?\n",
    "a=int(input(\"enter input any nr a\"))\n",
    "b=int(input(\"enter input any nr b\"))\n",
    "print(\"addition\",a+b,\"\\n divison\",a/b)\n",
    "\n",
    "#Q3 Write a Python program to find the area of a triangle?\n",
    "base=int(input(\"enter value for base of triangle\"))\n",
    "height=int(input(\"enter value for height of triangle\"))\n",
    "print(\"Area of triangle is\",(base*height)/2)\n",
    "\n",
    "#Q4 Write a Python program to swap two variables?\n",
    "print(\"Before swapping a=\",a,\" b=\",b)\n",
    "a,b=b,a\n",
    "print(\"After swapping a=\",a,\" b=\",b)\n",
    "\n",
    "#Q5 Write a Python program to generate a random number?\n",
    "ran_nr=random.randrange(100)\n",
    "print(\"randomly genrated number is\",ran_nr)"
   ]
  },
  {
   "cell_type": "code",
   "execution_count": null,
   "metadata": {},
   "outputs": [],
   "source": []
  }
 ],
 "metadata": {
  "kernelspec": {
   "display_name": "Python 3",
   "language": "python",
   "name": "python3"
  },
  "language_info": {
   "codemirror_mode": {
    "name": "ipython",
    "version": 3
   },
   "file_extension": ".py",
   "mimetype": "text/x-python",
   "name": "python",
   "nbconvert_exporter": "python",
   "pygments_lexer": "ipython3",
   "version": "3.7.4"
  }
 },
 "nbformat": 4,
 "nbformat_minor": 4
}
