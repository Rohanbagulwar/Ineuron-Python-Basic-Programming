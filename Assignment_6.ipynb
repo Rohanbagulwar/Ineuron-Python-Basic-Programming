{
 "cells": [
  {
   "cell_type": "code",
   "execution_count": 3,
   "metadata": {},
   "outputs": [
    {
     "name": "stdout",
     "output_type": "stream",
     "text": [
      "Fibonacci sequence:\n",
      "0\n",
      "1\n",
      "1\n",
      "2\n",
      "3\n",
      "5\n",
      "8\n",
      "13\n",
      "21\n",
      "34\n"
     ]
    }
   ],
   "source": [
    "# Python program to display the Fibonacci sequence\n",
    "\n",
    "def recur_fibo(n):\n",
    "    if n <= 1:\n",
    "            return n\n",
    "    else:\n",
    "        return(recur_fibo(n-1) + recur_fibo(n-2))\n",
    "\n",
    "nterms = 10\n",
    "\n",
    "# check if the number of terms is valid\n",
    "if nterms <= 0:\n",
    "    print(\"Plese enter a positive integer\")\n",
    "else:\n",
    "    print(\"Fibonacci sequence:\")\n",
    "    for i in range(nterms):\n",
    "        print(recur_fibo(i))"
   ]
  },
  {
   "cell_type": "code",
   "execution_count": null,
   "metadata": {},
   "outputs": [],
   "source": [
    "\n",
    "ls=[]\n",
    "def factorial(nr,summ):\n",
    "\n",
    "    summ=summ*nr\n",
    "    if nr>1:\n",
    "        factorial(nr-1,summ)\n",
    "        ls.append(summ)\n",
    "\n",
    "summ=1\n",
    "nr=int(input(\"enterb any number for factorial\"))\n",
    "factorial(nr,summ)\n",
    "print(\"factorial of number is\",ls[0])"
   ]
  },
  {
   "cell_type": "code",
   "execution_count": null,
   "metadata": {},
   "outputs": [],
   "source": [
    "\n",
    "def bmi():\n",
    "    ht=int(input(\"enter height in m2\"))\n",
    "    wt=int(input(\"enter weight in kg\"))\n",
    "    bmi_index=ht/wt\n",
    "    return bmi_index\n",
    "print(\"your bmi index is\",bmi())"
   ]
  },
  {
   "cell_type": "code",
   "execution_count": null,
   "metadata": {},
   "outputs": [],
   "source": [
    "\n",
    " \n",
    "import math as m\n",
    "\n",
    "\n",
    "\n",
    "\n",
    "def log(x,y):\n",
    "    print(\"1-addition\")\n",
    "    print('2-subtraction')\n",
    "    print(\"3- multiplication\")\n",
    "    print(\"4- reciprocal\")\n",
    "    inp=input(\"enter operation to input\")\n",
    "    if inp=='1':\n",
    "        print(\"ans \"+str(m.log10(x)+m.log10(y)))\n",
    "    if inp=='2':\n",
    "        print(\"ans \"+str(m.log10(x)-m.log10(y)))\n",
    "    if inp=='3':\n",
    "        print(\"ans \"+str(y*m.log10(x)))\n",
    "    \n",
    "\n",
    "x=int(input(\"enter value for x\"))\n",
    "y=int(input(\"enter value for y\"))\n",
    "log(x,y)"
   ]
  },
  {
   "cell_type": "markdown",
   "metadata": {},
   "source": [
    "\n"
   ]
  },
  {
   "cell_type": "code",
   "execution_count": null,
   "metadata": {},
   "outputs": [],
   "source": [
    "\n",
    "n=int(input(\"Enter any  nr for  cube of n natural numbers\"))\n",
    "\n",
    "print((n*(n+1))/2)"
   ]
  },
  {
   "cell_type": "code",
   "execution_count": null,
   "metadata": {},
   "outputs": [],
   "source": []
  }
 ],
 "metadata": {
  "kernelspec": {
   "display_name": "Python 3",
   "language": "python",
   "name": "python3"
  },
  "language_info": {
   "codemirror_mode": {
    "name": "ipython",
    "version": 3
   },
   "file_extension": ".py",
   "mimetype": "text/x-python",
   "name": "python",
   "nbconvert_exporter": "python",
   "pygments_lexer": "ipython3",
   "version": "3.7.4"
  }
 },
 "nbformat": 4,
 "nbformat_minor": 4
}
