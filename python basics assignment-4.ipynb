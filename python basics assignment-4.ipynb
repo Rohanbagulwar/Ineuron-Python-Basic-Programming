{
 "cells": [
  {
   "cell_type": "markdown",
   "metadata": {},
   "source": [
    "# python basics programming assignment-4\n",
    "\n",
    "\n",
    "\n"
   ]
  },
  {
   "cell_type": "code",
   "execution_count": 2,
   "metadata": {},
   "outputs": [
    {
     "name": "stdout",
     "output_type": "stream",
     "text": [
      "3\n",
      "6\n"
     ]
    }
   ],
   "source": [
    "#1.Write a Python Program to Find the Factorial of a Number\n",
    "nr=int(input(\"Enter any number for factorial\"))\n",
    "fact=1\n",
    "for i in range(1,nr+1):\n",
    "    fact*=i\n",
    "print(fact)\n",
    "    "
   ]
  },
  {
   "cell_type": "code",
   "execution_count": 5,
   "metadata": {},
   "outputs": [
    {
     "name": "stdout",
     "output_type": "stream",
     "text": [
      "Enter any number for Table5\n",
      "5  *  1 = 5\n",
      "5  *  2 = 10\n",
      "5  *  3 = 15\n",
      "5  *  4 = 20\n",
      "5  *  5 = 25\n",
      "5  *  6 = 30\n",
      "5  *  7 = 35\n",
      "5  *  8 = 40\n",
      "5  *  9 = 45\n",
      "5  *  10 = 50\n"
     ]
    }
   ],
   "source": [
    "#2.Write a Python Program to Display the multiplication Table?\n",
    "nr=int(input(\"Enter any number for Table\"))\n",
    "for i in range(1,11):\n",
    "    print(nr,\" * \",i,\"=\",nr*i)"
   ]
  },
  {
   "cell_type": "code",
   "execution_count": 31,
   "metadata": {},
   "outputs": [
    {
     "name": "stdout",
     "output_type": "stream",
     "text": [
      "10\n"
     ]
    },
    {
     "data": {
      "text/plain": [
       "6765"
      ]
     },
     "execution_count": 31,
     "metadata": {},
     "output_type": "execute_result"
    }
   ],
   "source": [
    "#3.Write a Python Program to Print the Fibonacci sequence?\n",
    "from functools import reduce\n",
    "nr=int(input())\n",
    "fib = lambda n:reduce(lambda x,n:[x[1],x[0]+x[1]], range(n),[0,1])[0]\n",
    "fib(nr)\n"
   ]
  },
  {
   "cell_type": "code",
   "execution_count": 7,
   "metadata": {},
   "outputs": [
    {
     "name": "stdout",
     "output_type": "stream",
     "text": [
      "Enter any number to check armstrong 5\n",
      "it is nota armstrong number\n"
     ]
    }
   ],
   "source": [
    "#4.Write a Python Program to Check Armstrong Number?\n",
    "nr=int(input(\"Enter any number to check armstrong \"))\n",
    "summ=0\n",
    "temp=nr\n",
    "\n",
    "while(nr>0):\n",
    "    \n",
    "    rem=int(nr%10)\n",
    "    summ+=(rem*rem*rem)\n",
    "    nr=nr/10\n",
    "    \n",
    "if(summ==temp):\n",
    "    print(\"it is armstrong nr\")\n",
    "else:\n",
    "    print(\"it is not a armstrong number\")\n",
    "    \n",
    "    "
   ]
  },
  {
   "cell_type": "code",
   "execution_count": 9,
   "metadata": {},
   "outputs": [
    {
     "data": {
      "text/plain": [
       "153"
      ]
     },
     "execution_count": 9,
     "metadata": {},
     "output_type": "execute_result"
    }
   ],
   "source": [
    "125+27+1"
   ]
  },
  {
   "cell_type": "code",
   "execution_count": 8,
   "metadata": {},
   "outputs": [
    {
     "name": "stdout",
     "output_type": "stream",
     "text": [
      "[1, 153, 370, 371, 407]\n"
     ]
    }
   ],
   "source": [
    "#5.Write a Python Program to Find Armstrong Number in an Interval?\n",
    "ls=[]\n",
    "nr=1\n",
    "while(nr<=4000):\n",
    "    temp=nr\n",
    "    dummy=nr\n",
    "    summ=0\n",
    "#     print(temp)\n",
    "    while(temp>0):\n",
    "        rem=int(temp%10)\n",
    "        summ+=(rem*rem*rem)\n",
    "        \n",
    "        temp=temp/10\n",
    "    if(summ==dummy):\n",
    "        ls.append(nr)\n",
    "    nr+=1\n",
    "print(ls)\n",
    "    \n",
    "    "
   ]
  },
  {
   "cell_type": "code",
   "execution_count": 22,
   "metadata": {},
   "outputs": [
    {
     "name": "stdout",
     "output_type": "stream",
     "text": [
      "enter any number to find sum of it20\n",
      "210.0\n"
     ]
    }
   ],
   "source": [
    "#6.Write a Python Program to Find the Sum of Natural Numbers?\n",
    "n=int(input(\"enter any number to find sum of it\"))\n",
    "ans=(n*(n+1)/2)\n",
    "print(ans)"
   ]
  },
  {
   "cell_type": "code",
   "execution_count": null,
   "metadata": {},
   "outputs": [],
   "source": []
  }
 ],
 "metadata": {
  "kernelspec": {
   "display_name": "Python 3",
   "language": "python",
   "name": "python3"
  },
  "language_info": {
   "codemirror_mode": {
    "name": "ipython",
    "version": 3
   },
   "file_extension": ".py",
   "mimetype": "text/x-python",
   "name": "python",
   "nbconvert_exporter": "python",
   "pygments_lexer": "ipython3",
   "version": "3.7.4"
  }
 },
 "nbformat": 4,
 "nbformat_minor": 4
}
