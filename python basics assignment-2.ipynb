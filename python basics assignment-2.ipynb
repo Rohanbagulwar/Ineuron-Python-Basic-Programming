{
 "cells": [
  {
   "cell_type": "markdown",
   "metadata": {},
   "source": [
    "# python basics assignment-2"
   ]
  },
  {
   "cell_type": "code",
   "execution_count": null,
   "metadata": {},
   "outputs": [],
   "source": [
    "#1.Write a Python program to convert kilometers to miles?\n",
    "km=int(input(\"Enter kilometers input to convert into miles\"))\n",
    "print(km,\"km is equal to\",km*0.62137,\"miles\")\n",
    "\n",
    "#2 Write a Python program to convert Celsius to Fahrenheit?\n",
    "celsius=int(input(\"Enter celsius to convert into Farhenit\"))\n",
    "print(celsius\"celsius is \",(celsius × 9/5) + 32,\"fahrenit\" )\n",
    "\n"
   ]
  },
  {
   "cell_type": "code",
   "execution_count": 8,
   "metadata": {},
   "outputs": [
    {
     "data": {
      "text/plain": [
       "'                                  2021\\n\\n      January                   February                   March\\nMo Tu We Th Fr Sa Su      Mo Tu We Th Fr Sa Su      Mo Tu We Th Fr Sa Su\\n             1  2  3       1  2  3  4  5  6  7       1  2  3  4  5  6  7\\n 4  5  6  7  8  9 10       8  9 10 11 12 13 14       8  9 10 11 12 13 14\\n11 12 13 14 15 16 17      15 16 17 18 19 20 21      15 16 17 18 19 20 21\\n18 19 20 21 22 23 24      22 23 24 25 26 27 28      22 23 24 25 26 27 28\\n25 26 27 28 29 30 31                                29 30 31\\n\\n       April                      May                       June\\nMo Tu We Th Fr Sa Su      Mo Tu We Th Fr Sa Su      Mo Tu We Th Fr Sa Su\\n          1  2  3  4                      1  2          1  2  3  4  5  6\\n 5  6  7  8  9 10 11       3  4  5  6  7  8  9       7  8  9 10 11 12 13\\n12 13 14 15 16 17 18      10 11 12 13 14 15 16      14 15 16 17 18 19 20\\n19 20 21 22 23 24 25      17 18 19 20 21 22 23      21 22 23 24 25 26 27\\n26 27 28 29 30            24 25 26 27 28 29 30      28 29 30\\n                          31\\n\\n        July                     August                  September\\nMo Tu We Th Fr Sa Su      Mo Tu We Th Fr Sa Su      Mo Tu We Th Fr Sa Su\\n          1  2  3  4                         1             1  2  3  4  5\\n 5  6  7  8  9 10 11       2  3  4  5  6  7  8       6  7  8  9 10 11 12\\n12 13 14 15 16 17 18       9 10 11 12 13 14 15      13 14 15 16 17 18 19\\n19 20 21 22 23 24 25      16 17 18 19 20 21 22      20 21 22 23 24 25 26\\n26 27 28 29 30 31         23 24 25 26 27 28 29      27 28 29 30\\n                          30 31\\n\\n      October                   November                  December\\nMo Tu We Th Fr Sa Su      Mo Tu We Th Fr Sa Su      Mo Tu We Th Fr Sa Su\\n             1  2  3       1  2  3  4  5  6  7             1  2  3  4  5\\n 4  5  6  7  8  9 10       8  9 10 11 12 13 14       6  7  8  9 10 11 12\\n11 12 13 14 15 16 17      15 16 17 18 19 20 21      13 14 15 16 17 18 19\\n18 19 20 21 22 23 24      22 23 24 25 26 27 28      20 21 22 23 24 25 26\\n25 26 27 28 29 30 31      29 30                     27 28 29 30 31\\n'"
      ]
     },
     "execution_count": 8,
     "metadata": {},
     "output_type": "execute_result"
    }
   ],
   "source": [
    "\n",
    "#3.Write a Python program to display calendar?\n",
    "import calendar\n",
    "calendar.calendar(2021)"
   ]
  },
  {
   "cell_type": "code",
   "execution_count": 14,
   "metadata": {},
   "outputs": [
    {
     "name": "stdout",
     "output_type": "stream",
     "text": [
      "enter value for ax^2 2\n",
      "enter value for bx^2 3\n",
      "enter value for c 4\n",
      "The solutin is -44.0 and -26.0\n"
     ]
    }
   ],
   "source": [
    "#4.Write a Python program to solve quadratic equation?\n",
    "a=int(input(\"enter value for ax^2 \"))\n",
    "b=int(input(\"enter value for bx^2 \"))\n",
    "c=int(input(\"enter value for c \"))\n",
    "ans1=((-b-(b*b)-4*a*c)/2*a)\n",
    "ans2=((-b+(b**2)-4*a*c)/2*a)\n",
    "print(\"The quadratic equation solutin is {} and {}\".format(ans1,ans2))"
   ]
  },
  {
   "cell_type": "code",
   "execution_count": 16,
   "metadata": {},
   "outputs": [
    {
     "name": "stdout",
     "output_type": "stream",
     "text": [
      "enter value of a10\n",
      "enter value of b20\n",
      "Before swapping a= 10  b= 20\n",
      "After swapping a= 20  b= 10\n"
     ]
    }
   ],
   "source": [
    "#5.Write a Python program to swap two variables without temp variable?\n",
    "a=int(input(\"enter value of a\"))\n",
    "b=int(input(\"enter value of b\"))\n",
    "print(\"Before swapping a=\",a,\" b=\",b)\n",
    "a,b=b,a\n",
    "print(\"After swapping a=\",a,\" b=\",b)\n"
   ]
  },
  {
   "cell_type": "code",
   "execution_count": null,
   "metadata": {},
   "outputs": [],
   "source": []
  }
 ],
 "metadata": {
  "kernelspec": {
   "display_name": "Python 3",
   "language": "python",
   "name": "python3"
  },
  "language_info": {
   "codemirror_mode": {
    "name": "ipython",
    "version": 3
   },
   "file_extension": ".py",
   "mimetype": "text/x-python",
   "name": "python",
   "nbconvert_exporter": "python",
   "pygments_lexer": "ipython3",
   "version": "3.7.4"
  }
 },
 "nbformat": 4,
 "nbformat_minor": 4
}
