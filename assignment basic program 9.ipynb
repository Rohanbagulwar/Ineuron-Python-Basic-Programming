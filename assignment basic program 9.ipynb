{
 "cells": [
  {
   "cell_type": "markdown",
   "metadata": {},
   "source": [
    "# Assignment 9 basic program\n",
    "\n",
    "\n",
    "\n"
   ]
  },
  {
   "cell_type": "markdown",
   "metadata": {},
   "source": [
    "# 1.\tWrite a Python program to check if the given number is a Disarium Number?"
   ]
  },
  {
   "cell_type": "code",
   "execution_count": 2,
   "metadata": {},
   "outputs": [
    {
     "name": "stdout",
     "output_type": "stream",
     "text": [
      "0\n",
      "1\n",
      "2\n",
      "3\n",
      "4\n",
      "5\n",
      "6\n",
      "7\n",
      "8\n",
      "9\n",
      "89\n",
      "135\n",
      "175\n",
      "518\n",
      "598\n"
     ]
    }
   ],
   "source": [
    "for i in range(1000):\n",
    "    temp=i\n",
    "    a=str(i)\n",
    "    summ=0\n",
    "    j=1\n",
    "    for i in a:\n",
    "        n=int(i)\n",
    "        summ+=pow(n,j)\n",
    "        j+=1\n",
    "    if temp==summ:\n",
    "        print(temp)\n",
    "    "
   ]
  },
  {
   "cell_type": "code",
   "execution_count": null,
   "metadata": {},
   "outputs": [],
   "source": [
    "4.\tWrite a Python program to print all happy numbers between 1 and 100?"
   ]
  },
  {
   "cell_type": "code",
   "execution_count": 44,
   "metadata": {},
   "outputs": [
    {
     "name": "stdout",
     "output_type": "stream",
     "text": [
      "No\n"
     ]
    }
   ],
   "source": [
    "def sumDigitSquare( n):\n",
    "    sq = 0;\n",
    "    while (n!=0):\n",
    "        digit = n % 10\n",
    "        sq += digit * digit\n",
    "        n = n // 10\n",
    "         \n",
    "    return sq;\n",
    " \n",
    " \n",
    "# Returns true if n is Happy number\n",
    "# else returns false.\n",
    "def isHappy(n):\n",
    "    # A set to store numbers during\n",
    "    # repeated square sum process\n",
    "    s=set()\n",
    "    s.add(n)\n",
    " \n",
    "    # Keep replacing n with sum of\n",
    "    # squares of digits until we either\n",
    "    # reach 1 or we endup in a cycle\n",
    "    while (True):\n",
    " \n",
    "        # Number is Happy if we reach 1\n",
    "        if (n == 1):\n",
    "            return True;\n",
    " \n",
    "        # Replace n with sum of squares\n",
    "        # of digits\n",
    "        n = sumDigitSquare(n)\n",
    " \n",
    "        # If n is already visited, a cycle\n",
    "        # is formed, means not Happy\n",
    "        if n in s:\n",
    "            return False\n",
    " \n",
    "        # Mark n as visited\n",
    "        s.add(n)\n",
    " \n",
    "    return false;\n",
    " \n",
    " \n",
    "# Driver code\n",
    " \n",
    "n = 4\n",
    "if (isHappy(n)):\n",
    "    print(\"Yes\")\n",
    "else:\n",
    "    print(\"No\")"
   ]
  },
  {
   "cell_type": "code",
   "execution_count": 31,
   "metadata": {},
   "outputs": [
    {
     "data": {
      "text/plain": [
       "'1ra'"
      ]
     },
     "execution_count": 31,
     "metadata": {},
     "output_type": "execute_result"
    }
   ],
   "source": [
    "a='1ra'\n",
    "a[0:]"
   ]
  },
  {
   "cell_type": "code",
   "execution_count": null,
   "metadata": {},
   "outputs": [],
   "source": [
    "5.\tWrite a Python program to determine whether the given number is a Harshad Number?"
   ]
  },
  {
   "cell_type": "code",
   "execution_count": 18,
   "metadata": {},
   "outputs": [
    {
     "name": "stdout",
     "output_type": "stream",
     "text": [
      "1\n",
      "2\n",
      "3\n",
      "4\n",
      "5\n",
      "6\n",
      "7\n",
      "8\n",
      "9\n",
      "10\n",
      "12\n",
      "18\n",
      "20\n",
      "21\n",
      "24\n",
      "27\n",
      "30\n",
      "36\n",
      "40\n",
      "42\n",
      "45\n",
      "48\n",
      "50\n",
      "54\n",
      "60\n",
      "63\n",
      "70\n",
      "72\n",
      "80\n",
      "81\n",
      "84\n",
      "90\n",
      "100\n",
      "102\n",
      "108\n",
      "110\n",
      "111\n",
      "112\n",
      "114\n",
      "117\n",
      "120\n",
      "126\n",
      "132\n",
      "133\n",
      "135\n",
      "140\n",
      "144\n",
      "150\n",
      "152\n",
      "153\n",
      "156\n",
      "162\n",
      "171\n",
      "180\n",
      "190\n",
      "192\n",
      "195\n",
      "198\n",
      "200\n",
      "201\n",
      "204\n",
      "207\n",
      "209\n",
      "210\n",
      "216\n",
      "220\n",
      "222\n",
      "224\n",
      "225\n",
      "228\n",
      "230\n",
      "234\n",
      "240\n",
      "243\n",
      "247\n",
      "252\n",
      "261\n",
      "264\n",
      "266\n",
      "270\n",
      "280\n",
      "285\n",
      "288\n",
      "300\n",
      "306\n",
      "308\n",
      "312\n",
      "315\n",
      "320\n",
      "322\n",
      "324\n",
      "330\n",
      "333\n",
      "336\n",
      "342\n",
      "351\n",
      "360\n",
      "364\n",
      "370\n",
      "372\n",
      "375\n",
      "378\n",
      "392\n",
      "396\n",
      "399\n",
      "400\n",
      "402\n",
      "405\n",
      "407\n",
      "408\n",
      "410\n",
      "414\n",
      "420\n",
      "423\n",
      "432\n",
      "440\n",
      "441\n",
      "444\n",
      "448\n",
      "450\n",
      "460\n",
      "465\n",
      "468\n",
      "476\n",
      "480\n",
      "481\n",
      "486\n",
      "500\n",
      "504\n",
      "506\n",
      "510\n",
      "511\n",
      "512\n",
      "513\n",
      "516\n",
      "518\n",
      "522\n",
      "531\n",
      "540\n",
      "550\n",
      "552\n",
      "555\n",
      "558\n",
      "576\n",
      "588\n",
      "592\n",
      "594\n",
      "600\n",
      "603\n",
      "605\n",
      "612\n",
      "621\n",
      "624\n",
      "629\n",
      "630\n",
      "640\n",
      "644\n",
      "645\n",
      "648\n",
      "660\n",
      "666\n",
      "684\n",
      "690\n",
      "700\n",
      "702\n",
      "704\n",
      "711\n",
      "715\n",
      "720\n",
      "730\n",
      "732\n",
      "735\n",
      "736\n",
      "738\n",
      "756\n",
      "770\n",
      "774\n",
      "777\n",
      "780\n",
      "782\n",
      "792\n",
      "800\n",
      "801\n",
      "803\n",
      "804\n",
      "810\n",
      "820\n",
      "825\n",
      "828\n",
      "832\n",
      "840\n",
      "846\n",
      "864\n",
      "870\n",
      "874\n",
      "880\n",
      "882\n",
      "888\n",
      "900\n",
      "902\n",
      "910\n",
      "912\n",
      "915\n",
      "918\n",
      "935\n",
      "936\n",
      "954\n",
      "960\n",
      "966\n",
      "972\n",
      "990\n",
      "999\n"
     ]
    }
   ],
   "source": [
    "\n",
    "\n",
    "for i in range(1,1000):\n",
    "    temp=i\n",
    "    a=str(i)\n",
    "    su=0\n",
    "    for j in a:\n",
    "        s=int(j)\n",
    "        su+=s\n",
    "    if(temp%su==0):\n",
    "        print(temp)\n",
    "        \n",
    "    "
   ]
  },
  {
   "cell_type": "code",
   "execution_count": null,
   "metadata": {},
   "outputs": [],
   "source": [
    "6.\tWrite a Python program to print all pronic numbers between 1 and 100?"
   ]
  },
  {
   "cell_type": "code",
   "execution_count": 30,
   "metadata": {},
   "outputs": [
    {
     "name": "stdout",
     "output_type": "stream",
     "text": [
      "2\n",
      "6\n",
      "12\n",
      "20\n",
      "30\n",
      "42\n",
      "56\n",
      "72\n",
      "90\n",
      "110\n",
      "132\n",
      "156\n",
      "182\n",
      "210\n",
      "240\n",
      "272\n",
      "306\n",
      "342\n",
      "380\n",
      "420\n",
      "462\n",
      "506\n",
      "552\n",
      "600\n",
      "650\n",
      "702\n",
      "756\n",
      "812\n",
      "870\n",
      "930\n",
      "992\n"
     ]
    }
   ],
   "source": [
    "import math\n",
    "for i in range(1,1000):\n",
    "    for j in range(1,int(math.sqrt(i))+1):\n",
    "        \n",
    "        if(i==j*(j+1)):\n",
    "#             print(j,j+1)\n",
    "            print(i)\n",
    "    \n",
    "    "
   ]
  },
  {
   "cell_type": "code",
   "execution_count": 20,
   "metadata": {},
   "outputs": [
    {
     "data": {
      "text/plain": [
       "3.0"
      ]
     },
     "execution_count": 20,
     "metadata": {},
     "output_type": "execute_result"
    }
   ],
   "source": [
    "6/2"
   ]
  },
  {
   "cell_type": "code",
   "execution_count": 26,
   "metadata": {},
   "outputs": [
    {
     "ename": "NameError",
     "evalue": "name 'random' is not defined",
     "output_type": "error",
     "traceback": [
      "\u001b[1;31m---------------------------------------------------------------------------\u001b[0m",
      "\u001b[1;31mNameError\u001b[0m                                 Traceback (most recent call last)",
      "\u001b[1;32m<ipython-input-26-096ce93df49f>\u001b[0m in \u001b[0;36m<module>\u001b[1;34m\u001b[0m\n\u001b[1;32m----> 1\u001b[1;33m \u001b[0m__import__\u001b[0m\u001b[1;33m(\u001b[0m\u001b[0mrandom\u001b[0m\u001b[1;33m)\u001b[0m\u001b[1;33m\u001b[0m\u001b[1;33m\u001b[0m\u001b[0m\n\u001b[0m",
      "\u001b[1;31mNameError\u001b[0m: name 'random' is not defined"
     ]
    }
   ],
   "source": []
  },
  {
   "cell_type": "code",
   "execution_count": null,
   "metadata": {},
   "outputs": [],
   "source": []
  }
 ],
 "metadata": {
  "kernelspec": {
   "display_name": "Python 3",
   "language": "python",
   "name": "python3"
  },
  "language_info": {
   "codemirror_mode": {
    "name": "ipython",
    "version": 3
   },
   "file_extension": ".py",
   "mimetype": "text/x-python",
   "name": "python",
   "nbconvert_exporter": "python",
   "pygments_lexer": "ipython3",
   "version": "3.7.4"
  }
 },
 "nbformat": 4,
 "nbformat_minor": 4
}
